{
 "cells": [
  {
   "cell_type": "code",
   "execution_count": 2,
   "id": "541f0fea",
   "metadata": {},
   "outputs": [],
   "source": [
    "import numpy as np\n",
    "import pandas as pd\n",
    "%matplotlib inline\n",
    "import matplotlib.pyplot as plt\n",
    "import seaborn as sns"
   ]
  },
  {
   "cell_type": "code",
   "execution_count": 24,
   "id": "394fbd32",
   "metadata": {},
   "outputs": [
    {
     "data": {
      "text/html": [
       "<div>\n",
       "<style scoped>\n",
       "    .dataframe tbody tr th:only-of-type {\n",
       "        vertical-align: middle;\n",
       "    }\n",
       "\n",
       "    .dataframe tbody tr th {\n",
       "        vertical-align: top;\n",
       "    }\n",
       "\n",
       "    .dataframe thead th {\n",
       "        text-align: right;\n",
       "    }\n",
       "</style>\n",
       "<table border=\"1\" class=\"dataframe\">\n",
       "  <thead>\n",
       "    <tr style=\"text-align: right;\">\n",
       "      <th></th>\n",
       "      <th>age</th>\n",
       "      <th>workclass</th>\n",
       "      <th>fnlwgt</th>\n",
       "      <th>education</th>\n",
       "      <th>education-num</th>\n",
       "      <th>marital-status</th>\n",
       "      <th>occupation</th>\n",
       "      <th>relationship</th>\n",
       "      <th>race</th>\n",
       "      <th>sex</th>\n",
       "      <th>capital-gain</th>\n",
       "      <th>capital-loss</th>\n",
       "      <th>hours-per-week</th>\n",
       "      <th>native-country</th>\n",
       "      <th>salary</th>\n",
       "    </tr>\n",
       "  </thead>\n",
       "  <tbody>\n",
       "    <tr>\n",
       "      <th>32556</th>\n",
       "      <td>27</td>\n",
       "      <td>Private</td>\n",
       "      <td>257302</td>\n",
       "      <td>Assoc-acdm</td>\n",
       "      <td>12</td>\n",
       "      <td>Married-civ-spouse</td>\n",
       "      <td>Tech-support</td>\n",
       "      <td>Wife</td>\n",
       "      <td>White</td>\n",
       "      <td>Female</td>\n",
       "      <td>0</td>\n",
       "      <td>0</td>\n",
       "      <td>38</td>\n",
       "      <td>United-States</td>\n",
       "      <td>&lt;=50K</td>\n",
       "    </tr>\n",
       "    <tr>\n",
       "      <th>32557</th>\n",
       "      <td>40</td>\n",
       "      <td>Private</td>\n",
       "      <td>154374</td>\n",
       "      <td>HS-grad</td>\n",
       "      <td>9</td>\n",
       "      <td>Married-civ-spouse</td>\n",
       "      <td>Machine-op-inspct</td>\n",
       "      <td>Husband</td>\n",
       "      <td>White</td>\n",
       "      <td>Male</td>\n",
       "      <td>0</td>\n",
       "      <td>0</td>\n",
       "      <td>40</td>\n",
       "      <td>United-States</td>\n",
       "      <td>&gt;50K</td>\n",
       "    </tr>\n",
       "    <tr>\n",
       "      <th>32558</th>\n",
       "      <td>58</td>\n",
       "      <td>Private</td>\n",
       "      <td>151910</td>\n",
       "      <td>HS-grad</td>\n",
       "      <td>9</td>\n",
       "      <td>Widowed</td>\n",
       "      <td>Adm-clerical</td>\n",
       "      <td>Unmarried</td>\n",
       "      <td>White</td>\n",
       "      <td>Female</td>\n",
       "      <td>0</td>\n",
       "      <td>0</td>\n",
       "      <td>40</td>\n",
       "      <td>United-States</td>\n",
       "      <td>&lt;=50K</td>\n",
       "    </tr>\n",
       "    <tr>\n",
       "      <th>32559</th>\n",
       "      <td>22</td>\n",
       "      <td>Private</td>\n",
       "      <td>201490</td>\n",
       "      <td>HS-grad</td>\n",
       "      <td>9</td>\n",
       "      <td>Never-married</td>\n",
       "      <td>Adm-clerical</td>\n",
       "      <td>Own-child</td>\n",
       "      <td>White</td>\n",
       "      <td>Male</td>\n",
       "      <td>0</td>\n",
       "      <td>0</td>\n",
       "      <td>20</td>\n",
       "      <td>United-States</td>\n",
       "      <td>&lt;=50K</td>\n",
       "    </tr>\n",
       "    <tr>\n",
       "      <th>32560</th>\n",
       "      <td>52</td>\n",
       "      <td>Self-emp-inc</td>\n",
       "      <td>287927</td>\n",
       "      <td>HS-grad</td>\n",
       "      <td>9</td>\n",
       "      <td>Married-civ-spouse</td>\n",
       "      <td>Exec-managerial</td>\n",
       "      <td>Wife</td>\n",
       "      <td>White</td>\n",
       "      <td>Female</td>\n",
       "      <td>15024</td>\n",
       "      <td>0</td>\n",
       "      <td>40</td>\n",
       "      <td>United-States</td>\n",
       "      <td>&gt;50K</td>\n",
       "    </tr>\n",
       "  </tbody>\n",
       "</table>\n",
       "</div>"
      ],
      "text/plain": [
       "       age     workclass  fnlwgt   education  education-num  \\\n",
       "32556   27       Private  257302  Assoc-acdm             12   \n",
       "32557   40       Private  154374     HS-grad              9   \n",
       "32558   58       Private  151910     HS-grad              9   \n",
       "32559   22       Private  201490     HS-grad              9   \n",
       "32560   52  Self-emp-inc  287927     HS-grad              9   \n",
       "\n",
       "           marital-status         occupation relationship   race     sex  \\\n",
       "32556  Married-civ-spouse       Tech-support         Wife  White  Female   \n",
       "32557  Married-civ-spouse  Machine-op-inspct      Husband  White    Male   \n",
       "32558             Widowed       Adm-clerical    Unmarried  White  Female   \n",
       "32559       Never-married       Adm-clerical    Own-child  White    Male   \n",
       "32560  Married-civ-spouse    Exec-managerial         Wife  White  Female   \n",
       "\n",
       "       capital-gain  capital-loss  hours-per-week native-country salary  \n",
       "32556             0             0              38  United-States  <=50K  \n",
       "32557             0             0              40  United-States   >50K  \n",
       "32558             0             0              40  United-States  <=50K  \n",
       "32559             0             0              20  United-States  <=50K  \n",
       "32560         15024             0              40  United-States   >50K  "
      ]
     },
     "execution_count": 24,
     "metadata": {},
     "output_type": "execute_result"
    }
   ],
   "source": [
    "DATA_URL = \"https://raw.githubusercontent.com/Yorko/mlcourse.ai/master/data/\"\n",
    "data = pd.read_csv(DATA_URL + \"adult.data.csv\")\n",
    "data.tail()"
   ]
  },
  {
   "cell_type": "code",
   "execution_count": 11,
   "id": "4889563e",
   "metadata": {},
   "outputs": [
    {
     "data": {
      "text/plain": [
       "Male      21790\n",
       "Female    10771\n",
       "Name: sex, dtype: int64"
      ]
     },
     "execution_count": 11,
     "metadata": {},
     "output_type": "execute_result"
    }
   ],
   "source": [
    "#1. How many men and women (sex feature) are represented in this dataset?\n",
    "data['sex'].value_counts()"
   ]
  },
  {
   "cell_type": "code",
   "execution_count": 12,
   "id": "304b4c42",
   "metadata": {},
   "outputs": [
    {
     "data": {
      "text/plain": [
       "36.85823043357163"
      ]
     },
     "execution_count": 12,
     "metadata": {},
     "output_type": "execute_result"
    }
   ],
   "source": [
    "#2. What is the average age (age feature) of women?\n",
    "data[data.sex == 'Female'].age.mean()"
   ]
  },
  {
   "cell_type": "code",
   "execution_count": 21,
   "id": "5e8f4ed7",
   "metadata": {},
   "outputs": [
    {
     "data": {
      "text/plain": [
       "United-States                 0.895857\n",
       "Mexico                        0.019748\n",
       "?                             0.017905\n",
       "Philippines                   0.006081\n",
       "Germany                       0.004207\n",
       "Canada                        0.003716\n",
       "Puerto-Rico                   0.003501\n",
       "El-Salvador                   0.003255\n",
       "India                         0.003071\n",
       "Cuba                          0.002918\n",
       "England                       0.002764\n",
       "Jamaica                       0.002488\n",
       "South                         0.002457\n",
       "China                         0.002303\n",
       "Italy                         0.002242\n",
       "Dominican-Republic            0.002150\n",
       "Vietnam                       0.002058\n",
       "Guatemala                     0.001966\n",
       "Japan                         0.001904\n",
       "Poland                        0.001843\n",
       "Columbia                      0.001812\n",
       "Taiwan                        0.001566\n",
       "Haiti                         0.001351\n",
       "Iran                          0.001321\n",
       "Portugal                      0.001136\n",
       "Nicaragua                     0.001044\n",
       "Peru                          0.000952\n",
       "France                        0.000891\n",
       "Greece                        0.000891\n",
       "Ecuador                       0.000860\n",
       "Ireland                       0.000737\n",
       "Hong                          0.000614\n",
       "Cambodia                      0.000584\n",
       "Trinadad&Tobago               0.000584\n",
       "Laos                          0.000553\n",
       "Thailand                      0.000553\n",
       "Yugoslavia                    0.000491\n",
       "Outlying-US(Guam-USVI-etc)    0.000430\n",
       "Honduras                      0.000399\n",
       "Hungary                       0.000399\n",
       "Scotland                      0.000369\n",
       "Holand-Netherlands            0.000031\n",
       "Name: native-country, dtype: float64"
      ]
     },
     "execution_count": 21,
     "metadata": {},
     "output_type": "execute_result"
    }
   ],
   "source": [
    "#3. What is the percentage of German citizens (native-country feature)?\n",
    "data['native-country'].value_counts(normalize=True)"
   ]
  },
  {
   "cell_type": "code",
   "execution_count": 26,
   "id": "14179075",
   "metadata": {},
   "outputs": [
    {
     "data": {
      "text/html": [
       "<div>\n",
       "<style scoped>\n",
       "    .dataframe tbody tr th:only-of-type {\n",
       "        vertical-align: middle;\n",
       "    }\n",
       "\n",
       "    .dataframe tbody tr th {\n",
       "        vertical-align: top;\n",
       "    }\n",
       "\n",
       "    .dataframe thead th {\n",
       "        text-align: right;\n",
       "    }\n",
       "</style>\n",
       "<table border=\"1\" class=\"dataframe\">\n",
       "  <thead>\n",
       "    <tr style=\"text-align: right;\">\n",
       "      <th></th>\n",
       "      <th>age</th>\n",
       "      <th>fnlwgt</th>\n",
       "      <th>education-num</th>\n",
       "      <th>capital-gain</th>\n",
       "      <th>capital-loss</th>\n",
       "      <th>hours-per-week</th>\n",
       "    </tr>\n",
       "  </thead>\n",
       "  <tbody>\n",
       "    <tr>\n",
       "      <th>count</th>\n",
       "      <td>7841.000000</td>\n",
       "      <td>7.841000e+03</td>\n",
       "      <td>7841.000000</td>\n",
       "      <td>7841.000000</td>\n",
       "      <td>7841.000000</td>\n",
       "      <td>7841.000000</td>\n",
       "    </tr>\n",
       "    <tr>\n",
       "      <th>mean</th>\n",
       "      <td>44.249841</td>\n",
       "      <td>1.880050e+05</td>\n",
       "      <td>11.611657</td>\n",
       "      <td>4006.142456</td>\n",
       "      <td>195.001530</td>\n",
       "      <td>45.473026</td>\n",
       "    </tr>\n",
       "    <tr>\n",
       "      <th>std</th>\n",
       "      <td>10.519028</td>\n",
       "      <td>1.025418e+05</td>\n",
       "      <td>2.385129</td>\n",
       "      <td>14570.378951</td>\n",
       "      <td>595.487574</td>\n",
       "      <td>11.012971</td>\n",
       "    </tr>\n",
       "    <tr>\n",
       "      <th>min</th>\n",
       "      <td>19.000000</td>\n",
       "      <td>1.487800e+04</td>\n",
       "      <td>2.000000</td>\n",
       "      <td>0.000000</td>\n",
       "      <td>0.000000</td>\n",
       "      <td>1.000000</td>\n",
       "    </tr>\n",
       "    <tr>\n",
       "      <th>25%</th>\n",
       "      <td>36.000000</td>\n",
       "      <td>1.191010e+05</td>\n",
       "      <td>10.000000</td>\n",
       "      <td>0.000000</td>\n",
       "      <td>0.000000</td>\n",
       "      <td>40.000000</td>\n",
       "    </tr>\n",
       "    <tr>\n",
       "      <th>50%</th>\n",
       "      <td>44.000000</td>\n",
       "      <td>1.761010e+05</td>\n",
       "      <td>12.000000</td>\n",
       "      <td>0.000000</td>\n",
       "      <td>0.000000</td>\n",
       "      <td>40.000000</td>\n",
       "    </tr>\n",
       "    <tr>\n",
       "      <th>75%</th>\n",
       "      <td>51.000000</td>\n",
       "      <td>2.309590e+05</td>\n",
       "      <td>13.000000</td>\n",
       "      <td>0.000000</td>\n",
       "      <td>0.000000</td>\n",
       "      <td>50.000000</td>\n",
       "    </tr>\n",
       "    <tr>\n",
       "      <th>max</th>\n",
       "      <td>90.000000</td>\n",
       "      <td>1.226583e+06</td>\n",
       "      <td>16.000000</td>\n",
       "      <td>99999.000000</td>\n",
       "      <td>3683.000000</td>\n",
       "      <td>99.000000</td>\n",
       "    </tr>\n",
       "  </tbody>\n",
       "</table>\n",
       "</div>"
      ],
      "text/plain": [
       "               age        fnlwgt  education-num  capital-gain  capital-loss  \\\n",
       "count  7841.000000  7.841000e+03    7841.000000   7841.000000   7841.000000   \n",
       "mean     44.249841  1.880050e+05      11.611657   4006.142456    195.001530   \n",
       "std      10.519028  1.025418e+05       2.385129  14570.378951    595.487574   \n",
       "min      19.000000  1.487800e+04       2.000000      0.000000      0.000000   \n",
       "25%      36.000000  1.191010e+05      10.000000      0.000000      0.000000   \n",
       "50%      44.000000  1.761010e+05      12.000000      0.000000      0.000000   \n",
       "75%      51.000000  2.309590e+05      13.000000      0.000000      0.000000   \n",
       "max      90.000000  1.226583e+06      16.000000  99999.000000   3683.000000   \n",
       "\n",
       "       hours-per-week  \n",
       "count     7841.000000  \n",
       "mean        45.473026  \n",
       "std         11.012971  \n",
       "min          1.000000  \n",
       "25%         40.000000  \n",
       "50%         40.000000  \n",
       "75%         50.000000  \n",
       "max         99.000000  "
      ]
     },
     "execution_count": 26,
     "metadata": {},
     "output_type": "execute_result"
    }
   ],
   "source": [
    "#4. What are the mean and standard deviation of age for those who earn more than 50K per year (salary feature)?\n",
    "data[data.salary == '>50K'].describe()"
   ]
  },
  {
   "cell_type": "code",
   "execution_count": 27,
   "id": "bfecf135",
   "metadata": {},
   "outputs": [
    {
     "data": {
      "text/html": [
       "<div>\n",
       "<style scoped>\n",
       "    .dataframe tbody tr th:only-of-type {\n",
       "        vertical-align: middle;\n",
       "    }\n",
       "\n",
       "    .dataframe tbody tr th {\n",
       "        vertical-align: top;\n",
       "    }\n",
       "\n",
       "    .dataframe thead th {\n",
       "        text-align: right;\n",
       "    }\n",
       "</style>\n",
       "<table border=\"1\" class=\"dataframe\">\n",
       "  <thead>\n",
       "    <tr style=\"text-align: right;\">\n",
       "      <th></th>\n",
       "      <th>age</th>\n",
       "      <th>fnlwgt</th>\n",
       "      <th>education-num</th>\n",
       "      <th>capital-gain</th>\n",
       "      <th>capital-loss</th>\n",
       "      <th>hours-per-week</th>\n",
       "    </tr>\n",
       "  </thead>\n",
       "  <tbody>\n",
       "    <tr>\n",
       "      <th>count</th>\n",
       "      <td>24720.000000</td>\n",
       "      <td>2.472000e+04</td>\n",
       "      <td>24720.000000</td>\n",
       "      <td>24720.000000</td>\n",
       "      <td>24720.000000</td>\n",
       "      <td>24720.000000</td>\n",
       "    </tr>\n",
       "    <tr>\n",
       "      <th>mean</th>\n",
       "      <td>36.783738</td>\n",
       "      <td>1.903409e+05</td>\n",
       "      <td>9.595065</td>\n",
       "      <td>148.752468</td>\n",
       "      <td>53.142921</td>\n",
       "      <td>38.840210</td>\n",
       "    </tr>\n",
       "    <tr>\n",
       "      <th>std</th>\n",
       "      <td>14.020088</td>\n",
       "      <td>1.064823e+05</td>\n",
       "      <td>2.436147</td>\n",
       "      <td>963.139307</td>\n",
       "      <td>310.755769</td>\n",
       "      <td>12.318995</td>\n",
       "    </tr>\n",
       "    <tr>\n",
       "      <th>min</th>\n",
       "      <td>17.000000</td>\n",
       "      <td>1.228500e+04</td>\n",
       "      <td>1.000000</td>\n",
       "      <td>0.000000</td>\n",
       "      <td>0.000000</td>\n",
       "      <td>1.000000</td>\n",
       "    </tr>\n",
       "    <tr>\n",
       "      <th>25%</th>\n",
       "      <td>25.000000</td>\n",
       "      <td>1.176060e+05</td>\n",
       "      <td>9.000000</td>\n",
       "      <td>0.000000</td>\n",
       "      <td>0.000000</td>\n",
       "      <td>35.000000</td>\n",
       "    </tr>\n",
       "    <tr>\n",
       "      <th>50%</th>\n",
       "      <td>34.000000</td>\n",
       "      <td>1.794650e+05</td>\n",
       "      <td>9.000000</td>\n",
       "      <td>0.000000</td>\n",
       "      <td>0.000000</td>\n",
       "      <td>40.000000</td>\n",
       "    </tr>\n",
       "    <tr>\n",
       "      <th>75%</th>\n",
       "      <td>46.000000</td>\n",
       "      <td>2.390230e+05</td>\n",
       "      <td>10.000000</td>\n",
       "      <td>0.000000</td>\n",
       "      <td>0.000000</td>\n",
       "      <td>40.000000</td>\n",
       "    </tr>\n",
       "    <tr>\n",
       "      <th>max</th>\n",
       "      <td>90.000000</td>\n",
       "      <td>1.484705e+06</td>\n",
       "      <td>16.000000</td>\n",
       "      <td>41310.000000</td>\n",
       "      <td>4356.000000</td>\n",
       "      <td>99.000000</td>\n",
       "    </tr>\n",
       "  </tbody>\n",
       "</table>\n",
       "</div>"
      ],
      "text/plain": [
       "                age        fnlwgt  education-num  capital-gain  capital-loss  \\\n",
       "count  24720.000000  2.472000e+04   24720.000000  24720.000000  24720.000000   \n",
       "mean      36.783738  1.903409e+05       9.595065    148.752468     53.142921   \n",
       "std       14.020088  1.064823e+05       2.436147    963.139307    310.755769   \n",
       "min       17.000000  1.228500e+04       1.000000      0.000000      0.000000   \n",
       "25%       25.000000  1.176060e+05       9.000000      0.000000      0.000000   \n",
       "50%       34.000000  1.794650e+05       9.000000      0.000000      0.000000   \n",
       "75%       46.000000  2.390230e+05      10.000000      0.000000      0.000000   \n",
       "max       90.000000  1.484705e+06      16.000000  41310.000000   4356.000000   \n",
       "\n",
       "       hours-per-week  \n",
       "count    24720.000000  \n",
       "mean        38.840210  \n",
       "std         12.318995  \n",
       "min          1.000000  \n",
       "25%         35.000000  \n",
       "50%         40.000000  \n",
       "75%         40.000000  \n",
       "max         99.000000  "
      ]
     },
     "execution_count": 27,
     "metadata": {},
     "output_type": "execute_result"
    }
   ],
   "source": [
    "#5. What are the mean and standard deviation of age for those who earn less than 50K per year?\n",
    "data[data.salary == '<=50K'].describe()"
   ]
  },
  {
   "cell_type": "code",
   "execution_count": 29,
   "id": "611b4ba3",
   "metadata": {},
   "outputs": [
    {
     "data": {
      "text/plain": [
       "Bachelors       2221\n",
       "HS-grad         1675\n",
       "Some-college    1387\n",
       "Masters          959\n",
       "Prof-school      423\n",
       "Assoc-voc        361\n",
       "Doctorate        306\n",
       "Assoc-acdm       265\n",
       "10th              62\n",
       "11th              60\n",
       "7th-8th           40\n",
       "12th              33\n",
       "9th               27\n",
       "5th-6th           16\n",
       "1st-4th            6\n",
       "Name: education, dtype: int64"
      ]
     },
     "execution_count": 29,
     "metadata": {},
     "output_type": "execute_result"
    }
   ],
   "source": [
    "#6. Is it true that people who earn more than 50K have at least high school education? (education – Bachelors, Prof-school, Assoc-acdm, Assoc-voc, Masters or Doctorate feature)\n",
    "data[data.salary == '>50K'].education.value_counts()"
   ]
  },
  {
   "cell_type": "code",
   "execution_count": 38,
   "id": "13dd10eb",
   "metadata": {},
   "outputs": [
    {
     "data": {
      "text/plain": [
       "82"
      ]
     },
     "execution_count": 38,
     "metadata": {},
     "output_type": "execute_result"
    }
   ],
   "source": [
    "#7. Find the maximum age of men of Amer-Indian-Eskimo race.\n",
    "data[data.race =='Amer-Indian-Eskimo'].age.max()"
   ]
  },
  {
   "cell_type": "code",
   "execution_count": 67,
   "id": "43cb8073",
   "metadata": {},
   "outputs": [
    {
     "data": {
      "text/html": [
       "<div>\n",
       "<style scoped>\n",
       "    .dataframe tbody tr th:only-of-type {\n",
       "        vertical-align: middle;\n",
       "    }\n",
       "\n",
       "    .dataframe tbody tr th {\n",
       "        vertical-align: top;\n",
       "    }\n",
       "\n",
       "    .dataframe thead th {\n",
       "        text-align: right;\n",
       "    }\n",
       "</style>\n",
       "<table border=\"1\" class=\"dataframe\">\n",
       "  <thead>\n",
       "    <tr style=\"text-align: right;\">\n",
       "      <th>salary</th>\n",
       "      <th>&lt;=50K</th>\n",
       "      <th>&gt;50K</th>\n",
       "    </tr>\n",
       "    <tr>\n",
       "      <th>marital-status</th>\n",
       "      <th></th>\n",
       "      <th></th>\n",
       "    </tr>\n",
       "  </thead>\n",
       "  <tbody>\n",
       "    <tr>\n",
       "      <th>Divorced</th>\n",
       "      <td>3980</td>\n",
       "      <td>463</td>\n",
       "    </tr>\n",
       "    <tr>\n",
       "      <th>Married-AF-spouse</th>\n",
       "      <td>13</td>\n",
       "      <td>10</td>\n",
       "    </tr>\n",
       "    <tr>\n",
       "      <th>Married-civ-spouse</th>\n",
       "      <td>8284</td>\n",
       "      <td>6692</td>\n",
       "    </tr>\n",
       "    <tr>\n",
       "      <th>Married-spouse-absent</th>\n",
       "      <td>384</td>\n",
       "      <td>34</td>\n",
       "    </tr>\n",
       "    <tr>\n",
       "      <th>Never-married</th>\n",
       "      <td>10192</td>\n",
       "      <td>491</td>\n",
       "    </tr>\n",
       "    <tr>\n",
       "      <th>Separated</th>\n",
       "      <td>959</td>\n",
       "      <td>66</td>\n",
       "    </tr>\n",
       "    <tr>\n",
       "      <th>Widowed</th>\n",
       "      <td>908</td>\n",
       "      <td>85</td>\n",
       "    </tr>\n",
       "  </tbody>\n",
       "</table>\n",
       "</div>"
      ],
      "text/plain": [
       "salary                 <=50K  >50K\n",
       "marital-status                    \n",
       "Divorced                3980   463\n",
       "Married-AF-spouse         13    10\n",
       "Married-civ-spouse      8284  6692\n",
       "Married-spouse-absent    384    34\n",
       "Never-married          10192   491\n",
       "Separated                959    66\n",
       "Widowed                  908    85"
      ]
     },
     "execution_count": 67,
     "metadata": {},
     "output_type": "execute_result"
    }
   ],
   "source": [
    "#8. Among whom is the proportion of those who earn a lot (>50K) greater: married or single men (marital-status feature)? Consider as married those who have a marital-status starting with Married (Married-civ-spouse, Married-spouse-absent or Married-AF-spouse), the rest are considered bachelors.\n",
    "sm = pd.crosstab(data['marital-status'], data[\"salary\"])\n",
    "sm"
   ]
  },
  {
   "cell_type": "code",
   "execution_count": 125,
   "id": "a68299f5",
   "metadata": {},
   "outputs": [
    {
     "data": {
      "text/plain": [
       "salary\n",
       "<=50K    16039\n",
       ">50K      1105\n",
       "dtype: int64"
      ]
     },
     "execution_count": 125,
     "metadata": {},
     "output_type": "execute_result"
    }
   ],
   "source": [
    "indices = [0,4,5,6]\n",
    "sm.iloc[indices].sum()"
   ]
  },
  {
   "cell_type": "code",
   "execution_count": 68,
   "id": "1c4a22f2",
   "metadata": {},
   "outputs": [
    {
     "data": {
      "text/plain": [
       "salary\n",
       "<=50K    8681\n",
       ">50K     6736\n",
       "dtype: int64"
      ]
     },
     "execution_count": 68,
     "metadata": {},
     "output_type": "execute_result"
    }
   ],
   "source": [
    "sm.iloc[1:4].sum()"
   ]
  },
  {
   "cell_type": "code",
   "execution_count": 99,
   "id": "94fef597",
   "metadata": {},
   "outputs": [
    {
     "data": {
      "text/html": [
       "<div>\n",
       "<style scoped>\n",
       "    .dataframe tbody tr th:only-of-type {\n",
       "        vertical-align: middle;\n",
       "    }\n",
       "\n",
       "    .dataframe tbody tr th {\n",
       "        vertical-align: top;\n",
       "    }\n",
       "\n",
       "    .dataframe thead th {\n",
       "        text-align: right;\n",
       "    }\n",
       "</style>\n",
       "<table border=\"1\" class=\"dataframe\">\n",
       "  <thead>\n",
       "    <tr style=\"text-align: right;\">\n",
       "      <th>hours-per-week</th>\n",
       "      <th>1</th>\n",
       "      <th>2</th>\n",
       "      <th>3</th>\n",
       "      <th>4</th>\n",
       "      <th>5</th>\n",
       "      <th>6</th>\n",
       "      <th>7</th>\n",
       "      <th>8</th>\n",
       "      <th>9</th>\n",
       "      <th>10</th>\n",
       "      <th>...</th>\n",
       "      <th>89</th>\n",
       "      <th>90</th>\n",
       "      <th>91</th>\n",
       "      <th>92</th>\n",
       "      <th>94</th>\n",
       "      <th>95</th>\n",
       "      <th>96</th>\n",
       "      <th>97</th>\n",
       "      <th>98</th>\n",
       "      <th>99</th>\n",
       "    </tr>\n",
       "    <tr>\n",
       "      <th>sex</th>\n",
       "      <th></th>\n",
       "      <th></th>\n",
       "      <th></th>\n",
       "      <th></th>\n",
       "      <th></th>\n",
       "      <th></th>\n",
       "      <th></th>\n",
       "      <th></th>\n",
       "      <th></th>\n",
       "      <th></th>\n",
       "      <th></th>\n",
       "      <th></th>\n",
       "      <th></th>\n",
       "      <th></th>\n",
       "      <th></th>\n",
       "      <th></th>\n",
       "      <th></th>\n",
       "      <th></th>\n",
       "      <th></th>\n",
       "      <th></th>\n",
       "      <th></th>\n",
       "    </tr>\n",
       "  </thead>\n",
       "  <tbody>\n",
       "    <tr>\n",
       "      <th>Female</th>\n",
       "      <td>10</td>\n",
       "      <td>14</td>\n",
       "      <td>14</td>\n",
       "      <td>32</td>\n",
       "      <td>32</td>\n",
       "      <td>31</td>\n",
       "      <td>14</td>\n",
       "      <td>78</td>\n",
       "      <td>10</td>\n",
       "      <td>130</td>\n",
       "      <td>...</td>\n",
       "      <td>0</td>\n",
       "      <td>4</td>\n",
       "      <td>0</td>\n",
       "      <td>0</td>\n",
       "      <td>0</td>\n",
       "      <td>0</td>\n",
       "      <td>0</td>\n",
       "      <td>0</td>\n",
       "      <td>0</td>\n",
       "      <td>19</td>\n",
       "    </tr>\n",
       "    <tr>\n",
       "      <th>Male</th>\n",
       "      <td>10</td>\n",
       "      <td>18</td>\n",
       "      <td>25</td>\n",
       "      <td>22</td>\n",
       "      <td>28</td>\n",
       "      <td>33</td>\n",
       "      <td>12</td>\n",
       "      <td>67</td>\n",
       "      <td>8</td>\n",
       "      <td>148</td>\n",
       "      <td>...</td>\n",
       "      <td>2</td>\n",
       "      <td>25</td>\n",
       "      <td>3</td>\n",
       "      <td>1</td>\n",
       "      <td>1</td>\n",
       "      <td>2</td>\n",
       "      <td>5</td>\n",
       "      <td>2</td>\n",
       "      <td>11</td>\n",
       "      <td>66</td>\n",
       "    </tr>\n",
       "  </tbody>\n",
       "</table>\n",
       "<p>2 rows × 94 columns</p>\n",
       "</div>"
      ],
      "text/plain": [
       "hours-per-week  1   2   3   4   5   6   7   8   9    10  ...  89  90  91  92  \\\n",
       "sex                                                      ...                   \n",
       "Female          10  14  14  32  32  31  14  78  10  130  ...   0   4   0   0   \n",
       "Male            10  18  25  22  28  33  12  67   8  148  ...   2  25   3   1   \n",
       "\n",
       "hours-per-week  94  95  96  97  98  99  \n",
       "sex                                     \n",
       "Female           0   0   0   0   0  19  \n",
       "Male             1   2   5   2  11  66  \n",
       "\n",
       "[2 rows x 94 columns]"
      ]
     },
     "execution_count": 99,
     "metadata": {},
     "output_type": "execute_result"
    }
   ],
   "source": [
    "#9. What is the maximum number of hours a person works per week (hours-per-week feature)? How many people work such a number of hours, and what is the percentage of those who earn a lot (>50K) among them?\n",
    "data['hours-per-week'] #99\n",
    "pd.crosstab(data['sex'], data['hours-per-week'])"
   ]
  },
  {
   "cell_type": "code",
   "execution_count": 116,
   "id": "b7c3b9d5",
   "metadata": {},
   "outputs": [],
   "source": [
    "ndata = data.rename(columns={'hours-per-week':'hours_per_week','native-country':'native_country'})"
   ]
  },
  {
   "cell_type": "code",
   "execution_count": 112,
   "id": "324aa775",
   "metadata": {},
   "outputs": [
    {
     "data": {
      "text/plain": [
       "age               25\n",
       "workclass         25\n",
       "fnlwgt            25\n",
       "education         25\n",
       "education-num     25\n",
       "marital-status    25\n",
       "occupation        25\n",
       "relationship      25\n",
       "race              25\n",
       "sex               25\n",
       "capital-gain      25\n",
       "capital-loss      25\n",
       "hours_per_week    25\n",
       "native-country    25\n",
       "salary            25\n",
       "dtype: int64"
      ]
     },
     "execution_count": 112,
     "metadata": {},
     "output_type": "execute_result"
    }
   ],
   "source": [
    "ndata[(ndata.hours_per_week == 99) & (ndata.salary == '>50K')].count()"
   ]
  },
  {
   "cell_type": "code",
   "execution_count": 122,
   "id": "05912466",
   "metadata": {},
   "outputs": [
    {
     "data": {
      "text/plain": [
       "41.0"
      ]
     },
     "execution_count": 122,
     "metadata": {},
     "output_type": "execute_result"
    }
   ],
   "source": [
    "#10. Count the average time of work (hours-per-week) for those who earn a little and a lot (salary) for each country (native-country). What will these be for Japan?\n",
    "ndata[(ndata.salary == '>50K')&(ndata.native_country == 'Japan')].hours_per_week.mean()#48\n",
    "ndata[(ndata.salary == '<=50K')&(ndata.native_country == 'Japan')].hours_per_week.mean()#41"
   ]
  },
  {
   "cell_type": "code",
   "execution_count": 123,
   "id": "1d12d47f",
   "metadata": {},
   "outputs": [
    {
     "data": {
      "text/plain": [
       "38.840210355987054"
      ]
     },
     "execution_count": 123,
     "metadata": {},
     "output_type": "execute_result"
    }
   ],
   "source": [
    "ndata[(ndata.salary == '<=50K')].hours_per_week.mean()"
   ]
  },
  {
   "cell_type": "code",
   "execution_count": null,
   "id": "91b59105",
   "metadata": {},
   "outputs": [],
   "source": []
  }
 ],
 "metadata": {
  "kernelspec": {
   "display_name": "Python 3 (ipykernel)",
   "language": "python",
   "name": "python3"
  },
  "language_info": {
   "codemirror_mode": {
    "name": "ipython",
    "version": 3
   },
   "file_extension": ".py",
   "mimetype": "text/x-python",
   "name": "python",
   "nbconvert_exporter": "python",
   "pygments_lexer": "ipython3",
   "version": "3.9.13"
  }
 },
 "nbformat": 4,
 "nbformat_minor": 5
}
